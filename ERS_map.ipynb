{
 "cells": [
  {
   "cell_type": "code",
   "execution_count": null,
   "id": "993c4c22",
   "metadata": {},
   "outputs": [],
   "source": [
    "pip install plotly"
   ]
  },
  {
   "cell_type": "code",
   "execution_count": null,
   "id": "46effa48",
   "metadata": {},
   "outputs": [],
   "source": [
    "pip install kaleido"
   ]
  },
  {
   "cell_type": "code",
   "execution_count": null,
   "id": "551be5d6",
   "metadata": {},
   "outputs": [],
   "source": [
    "from urllib.request import urlopen\n",
    "import json\n",
    "with urlopen('https://raw.githubusercontent.com/plotly/datasets/master/geojson-counties-fips.json') as response:\n",
    "    counties = json.load(response)\n",
    "\n",
    "counties[\"features\"][0]"
   ]
  },
  {
   "cell_type": "code",
   "execution_count": null,
   "id": "12d9c74e",
   "metadata": {},
   "outputs": [],
   "source": [
    "import pandas as pd\n",
    "import plotly.express as px\n",
    "import numpy as np\n",
    "\n",
    "##import data and clean\n",
    "df = (pd.read_excel(\"https://www.ers.usda.gov/media/9592/reglink.xls\",dtype={\"Fips\": str},skiprows=2,sheet_name=\"reglink\").dropna(how='all', axis=1))\n",
    "df_ers=df.iloc[: , 0:2]\n",
    "df_ers=df_ers.rename({'Fips':'fips', 'ERS resource region':'ers'}, axis=1)\n",
    "df_ers=df_ers.sort_values(by='ers', ascending=True)\n",
    "#df_ers.tail()\n",
    "##df_ers[[\"fips\"]] = df_ers[[\"fips\"]].astype(str)\n",
    "#df_ers['ers'].describe()\n",
    "df_ers['fips']=df_ers['fips'].str.zfill(5)\n",
    "df_ers[\"ers\"] = df_ers[\"ers\"].astype(str)\n",
    "#df_ers.head()\n",
    "\n",
    "##replace ers numbers with names\n",
    "df_ers['ers'] = np.where((df_ers.ers == '1'),'Heartland-HL',df_ers.ers)\n",
    "df_ers['ers'] = np.where((df_ers.ers == '2'),'Northern Crescent-NC',df_ers.ers)\n",
    "df_ers['ers'] = np.where((df_ers.ers == '3'),'Northern Great Plains-NG',df_ers.ers)\n",
    "df_ers['ers'] = np.where((df_ers.ers == '4'),'Prairie Gateway-PG',df_ers.ers)\n",
    "df_ers['ers'] = np.where((df_ers.ers == '5'),'Eastern Uplands-EU',df_ers.ers)\n",
    "df_ers['ers'] = np.where((df_ers.ers == '6'),'Southern Seaboard-SS',df_ers.ers)\n",
    "df_ers['ers'] = np.where((df_ers.ers == '7'),'Fruitful Rim-FR',df_ers.ers)\n",
    "df_ers['ers'] = np.where((df_ers.ers == '8'),'Basin and Range-BR',df_ers.ers)\n",
    "df_ers['ers'] = np.where((df_ers.ers == '9'),'Mississippi Portal-MP',df_ers.ers)\n",
    "\n",
    "\n",
    "##create the figure\n",
    "fig = px.choropleth(df_ers, geojson=counties, locations='fips', color='ers',\n",
    "                           color_continuous_scale=\"Viridis\",\n",
    "                           scope=\"usa\",\n",
    "                           labels={'ers':'Farm Resource Region'}\n",
    "                          )\n",
    "fig.update_geos(fitbounds=\"locations\", visible=False)\n",
    "fig.update_layout(margin={\"r\":0,\"t\":0,\"l\":0,\"b\":0})\n",
    "fig.show()\n",
    "\n",
    "##write image\n",
    "import os\n",
    "\n",
    "if not os.path.exists(\"images\"):\n",
    "    os.mkdir(\"images\")\n",
    "fig.write_image(\"images/fig1.png\")"
   ]
  }
 ],
 "metadata": {
  "kernelspec": {
   "display_name": "Python 3 (ipykernel)",
   "language": "python",
   "name": "python3"
  },
  "language_info": {
   "codemirror_mode": {
    "name": "ipython",
    "version": 3
   },
   "file_extension": ".py",
   "mimetype": "text/x-python",
   "name": "python",
   "nbconvert_exporter": "python",
   "pygments_lexer": "ipython3",
   "version": "3.8.12"
  }
 },
 "nbformat": 4,
 "nbformat_minor": 5
}
